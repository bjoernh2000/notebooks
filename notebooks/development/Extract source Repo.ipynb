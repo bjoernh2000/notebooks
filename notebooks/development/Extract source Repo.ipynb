{
 "cells": [
  {
   "cell_type": "markdown",
   "metadata": {},
   "source": [
    "## Solver-Project-URL-Job"
   ]
  },
  {
   "cell_type": "code",
   "execution_count": 4,
   "metadata": {},
   "outputs": [
    {
     "data": {
      "text/plain": [
       "True"
      ]
     },
     "execution_count": 4,
     "metadata": {},
     "output_type": "execute_result"
    }
   ],
   "source": [
    "from thoth.storages import SolverResultsStore\n",
    "from dotenv import load_dotenv\n",
    "import pandas as pd\n",
    "import numpy as np\n",
    "import itertools\n",
    "load_dotenv()"
   ]
  },
  {
   "cell_type": "code",
   "execution_count": 5,
   "metadata": {},
   "outputs": [],
   "source": [
    "store = SolverResultsStore()\n",
    "store.connect()"
   ]
  },
  {
   "cell_type": "markdown",
   "metadata": {},
   "source": [
    "### Extracting metadata from result tree"
   ]
  },
  {
   "cell_type": "code",
   "execution_count": 6,
   "metadata": {
    "scrolled": false
   },
   "outputs": [],
   "source": [
    "git_source_repos = []\n",
    "num_results = 1000\n",
    "iterate_results = itertools.islice(store.iterate_results(), num_results)\n",
    "for document_id, doc in iterate_results:\n",
    "        if not doc[\"result\"][\"tree\"]:\n",
    "            continue\n",
    "        metadata = doc[\"result\"][\"tree\"][0][\"importlib_metadata\"][\"metadata\"]\n",
    "        url_candidates = [metadata.get(\"Home-page\")]\n",
    "        if metadata.get(\"Download-URL\"):\n",
    "            url_candidates.append(metadata.get(\"Download-URL\").rsplit(\",\", maxsplit=1)[-1].strip())\n",
    "        for url in metadata.get(\"Project-URL\") or []:\n",
    "            url_candidates.append(url.rsplit(\",\", maxsplit=1)[-1].strip())\n",
    "        for url in url_candidates:\n",
    "            print(url)\n",
    "            if not url or not url.startswith(\"https://github.com\"):\n",
    "                continue\n",
    "#             print(\"Project_URL:\", url)\n",
    "            git_source_repos.append(url)\n",
    "\n"
   ]
  }
 ],
 "metadata": {
  "kernelspec": {
   "display_name": "Python 3",
   "language": "python",
   "name": "python3"
  },
  "language_info": {
   "codemirror_mode": {
    "name": "ipython",
    "version": 3
   },
   "file_extension": ".py",
   "mimetype": "text/x-python",
   "name": "python",
   "nbconvert_exporter": "python",
   "pygments_lexer": "ipython3",
   "version": "3.6.13"
  }
 },
 "nbformat": 4,
 "nbformat_minor": 2
}
